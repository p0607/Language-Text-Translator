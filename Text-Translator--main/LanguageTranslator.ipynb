{
 "cells": [
  {
   "cell_type": "markdown",
   "metadata": {},
   "source": [
    "# Any Language Translation machine"
   ]
  },
  {
   "cell_type": "code",
   "execution_count": 1,
   "metadata": {},
   "outputs": [
    {
     "name": "stderr",
     "output_type": "stream",
     "text": [
      "ERROR: Invalid requirement: 'googletrans=3.1.0a0'\n",
      "Hint: = is not a valid operator. Did you mean == ?\n"
     ]
    }
   ],
   "source": [
    "\n",
    
   ]
  },
  {
   "cell_type": "code",
   "execution_count": 1,
   "metadata": {},
   "outputs": [
    {
     "name": "stdout",
     "output_type": "stream",
     "text": [
      "Translated(src=en, dest=el, text=γεια, pronunciation=geia, extra_data=\"{'translat...\")\n"
     ]
    }
   ],
   "source": [
    "!pip install tkinter\n",
    "!pip install googletrans=3.1.0a0\n",
    "from googletrans import Translator\n",
    "import tkinter\n",
    "from tkinter import *\n",
    "import tkinter.font as tkFont\n",
    "from tkinter import ttk\n",
    "\n",
    "# making base for application\n",
    "jp = tkinter.Tk()\n",
    "jp.title(\"Language translator Machine\")\n",
    "jp.geometry(\"600x400\")\n",
    "jp.configure(bg=\"gray21\")\n",
    "\n",
    "l1= Label(jp, text = \" Text translation Machine\", font = tkFont.Font(family = \"Comin Sans\", size = 20),fg = \"ghostwhite\" , bg=\"gray21\")\n",
    "l1.grid(stick =\"n\")\n",
    " \n",
    "\n",
    "\n",
    "#combobox Variables\n",
    "text = StringVar()\n",
    "another_optvar=tkinter.StringVar(jp)\n",
    "\n",
    "LanguageCode=  ['Language code','af: afrikaans', 'sq: albanian', 'am: amharic',  'ar: arabic', 'hy: armenian',\n",
    "               'az: azerbaijani', 'eu: basque', 'be: belarusian', 'bn: bengali', 'bs: bosnian',\n",
    "               'bg: bulgarian', 'ca: catalan', 'ceb: cebuano', 'ny: chichewa', 'zh-cn: chinese (simplified)',\n",
    "               'zh-tw: chinese (traditional)', 'co: corsican', 'hr: croatian', 'cs: czech', 'da: danish',\n",
    "               'nl: dutch', 'en: english', 'eo: esperanto', 'et: estonian', 'tl: filipino', 'fi: finnish', \n",
    "               'fr: french', 'fy: frisian', 'gl: galician', 'ka: georgian', 'de: german', 'el: greek',\n",
    "               'gu: gujarati', 'ht: haitian creole', 'ha: hausa', 'haw: hawaiian', 'iw: hebrew', 'he: hebrew',\n",
    "               'hi: hindi', 'hmn: hmong', 'hu: hungarian', 'is: icelandic', 'ig: igbo', 'id: indonesian',\n",
    "               'ga: irish', 'it: italian', 'ja: japanese', 'jw: javanese', 'kn: kannada', 'kk: kazakh',\n",
    "               'km: khmer', 'ko: korean', 'ku: kurdish (kurmanji)', 'ky: kyrgyz', 'lo: lao', 'la: latin',\n",
    "               'lv: latvian', 'lt: lithuanian', 'lb: luxembourgish', 'mk: macedonian', 'mg: malagasy', \n",
    "               'ms: malay', 'ml: malayalam', 'mt: maltese', 'mi: maori', 'mr: marathi', 'mn: mongolian',\n",
    "               'my: myanmar (burmese)', 'ne: nepali', 'no: norwegian', 'or: odia', 'ps: pashto', 'fa: persian', \n",
    "               'pl: polish', 'pt: portuguese', 'pa: punjabi', 'ro: romanian', 'ru: russian', 'sm: samoan', \n",
    "               'gd: scots gaelic', 'sr: serbian', 'st: sesotho', 'sn: shona', 'sd: sindhi', 'si: sinhala', \n",
    "               'sk: slovak', 'sl: slovenian', 'so: somali', 'es: spanish', 'su: sundanese', 'sw: swahili', \n",
    "               'sv: swedish', 'tg: tajik', 'ta: tamil', 'te: telugu', 'th: thai', 'tr: turkish', \n",
    "               'uk: ukrainian', 'ur: urdu', 'ug: uyghur', 'uz: uzbek', 'vi: vietnamese', 'cy: welsh', \n",
    "               'xh: xhosa', 'yi: yiddish', 'yo: yoruba', 'zu: zulu']\n",
    "\n",
    "optvar= tkinter.StringVar(jp)\n",
    "SelectLanguage=   ['Select your language','af','sq', 'am','ar','hy','az','eu', 'be','bn', 'bs', 'bg', 'ca','ceb','ny','zh-cn','zh-tw',\n",
    "                'co','hr','cs','da', 'nl','en','eo','et','tl','fi','fr','fy','gl','ka','de','el','gu','ht','ha','haw','iw','he','hi',\n",
    "                'hmn','hu','is','ig','id','ga','it','ja','jw','kn','kk','km','ko','ku','ky','lo','la','lv','lt','lb','mk','mg','ms','ml',\n",
    "                'mt','mi','mr','mn','my', 'ne','no','or','ps','fa','pl','pt','pa','ro','ru','sm','gd','sr','st','sn','sd','si','sk','sl',\n",
    "                'so','es', 'su','sw','sv','tg','ta','te','th','tr','uk','ur','ug','uz','vi','cy','xh','yi','yo','zu']\n",
    "optvar.set(SelectLanguage[0])\n",
    "another_optvar.set(LanguageCode[0])\n",
    "\n",
    "#input from user\n",
    "\n",
    "l2 = Label(jp, text = \"Enter your Word here: \", font = tkFont.Font(family = \"Comin Sans\", size = 15), fg =\"ghostwhite\" , bg=\"gray21\")\n",
    "l2.grid(sticky='n',pady = 8)\n",
    "\n",
    "user1 = Entry(jp,width = 100 , bd = 5,cursor = \"dot\", fg= \"purple\", bg=\"ghostwhite\",textvariable = text)\n",
    "user1.grid(sticky=\"n\",pady = 12)\n",
    "\n",
    "\n",
    "# creating a combobox\n",
    "optmenu = ttk.Combobox(jp,textvariable = optvar,width = \"30\",height = \"20\")\n",
    "optmenu.grid(sticky=\"n\", pady=8)\n",
    "optmenu[\"values\"] =SelectLanguage\n",
    "\n",
    "#another combpox to realise the language code\n",
    "another_optmenu = ttk.Combobox(jp,textvariable=another_optvar,width = \"30\",height = \"20\")\n",
    "another_optmenu.grid(row=3,sticky=\"nw\",pady=8)\n",
    "another_optmenu[\"values\"]= LanguageCode\n",
    "another_optmenu[\"state\"]=\"readonly\"\n",
    "\n",
    "\n",
    "\n",
    "#function for translation\n",
    "\n",
    "def translation():\n",
    "    ttext = text.get()\n",
    "    combox_value = optvar.get()\n",
    "    translator = Translator()\n",
    "    dect = translator.detect(ttext)\n",
    "    #result = translator.translate(text = ttext,dest = optionlist)\n",
    "    l2 = Label(jp, text = f\"Detected Language is  : {dect.lang}\", font = tkFont.Font(family = \"Comin Sans\", size = 11),\n",
    "               fg =\"gray21\",bg = \"yellow\")\n",
    "    l2.grid(sticky = \"n\",pady=10)\n",
    "    \n",
    "    translated = translator.translate(ttext, dest=combox_value)\n",
    "    print(translated)\n",
    "    \n",
    "    op= Text(jp, height=20, width=70)\n",
    "    op.grid(row=6, column=0, sticky='n')\n",
    "    only_text=translated.text\n",
    "    op.insert(INSERT, only_text)\n",
    "\n",
    "\n",
    "#creating a button\n",
    "b1= tkinter.Button(jp, text=\"Translate\",font = tkFont.Font(family = \"Comin Sans\", size = 14),\n",
    "                   fg =\"ghostwhite\" , bg=\"purple1\",command = translation)\n",
    "b1.grid(row=4,sticky=\"n\",pady=8)\n",
    "\n",
    "jp.mainloop()\n",
    "    \n",
    "\n",
    "\n",
    "    \n",
    "\n"
   ]
  },
  {
   "cell_type": "code",
   "execution_count": null,
   "metadata": {},
   "outputs": [],
   "source": []
  }
 ],
 "metadata": {
  "kernelspec": {
   "display_name": "Python 3",
   "language": "python",
   "name": "python3"
  },
  "language_info": {
   "codemirror_mode": {
    "name": "ipython",
    "version": 3
   },
   "file_extension": ".py",
   "mimetype": "text/x-python",
   "name": "python",
   "nbconvert_exporter": "python",
   "pygments_lexer": "ipython3",
   "version": "3.8.5"
  }
 },
 "nbformat": 4,
 "nbformat_minor": 4
}
